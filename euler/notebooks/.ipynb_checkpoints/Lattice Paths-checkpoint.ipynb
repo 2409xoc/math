{
 "cells": [
  {
   "cell_type": "code",
   "execution_count": 5,
   "id": "bfd3f63d",
   "metadata": {},
   "outputs": [],
   "source": [
    "# (scrappy) implementation\n",
    "import numpy as np\n",
    "np.set_printoptions(suppress=True)\n",
    "x = 20\n",
    "f = np.ones((x+1)**2).reshape(x+1,x+1)\n",
    "for j in range(1, len(f)):\n",
    "    for i in range(1, len(f[j])):\n",
    "            f[j][i] = f[j-1][i] + f[j][i-1]"
   ]
  },
  {
   "cell_type": "code",
   "execution_count": 6,
   "id": "508cfba8",
   "metadata": {},
   "outputs": [
    {
     "data": {
      "text/plain": [
       "137846528820.0"
      ]
     },
     "execution_count": 6,
     "metadata": {},
     "output_type": "execute_result"
    }
   ],
   "source": [
    "f[-1][-1]"
   ]
  }
 ],
 "metadata": {
  "kernelspec": {
   "display_name": "Python 3 (ipykernel)",
   "language": "python",
   "name": "python3"
  },
  "language_info": {
   "codemirror_mode": {
    "name": "ipython",
    "version": 3
   },
   "file_extension": ".py",
   "mimetype": "text/x-python",
   "name": "python",
   "nbconvert_exporter": "python",
   "pygments_lexer": "ipython3",
   "version": "3.9.12"
  }
 },
 "nbformat": 4,
 "nbformat_minor": 5
}
