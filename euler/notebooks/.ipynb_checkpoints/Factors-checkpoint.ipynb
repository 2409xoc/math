{
 "cells": [
  {
   "cell_type": "code",
   "execution_count": 1,
   "id": "47d028c1",
   "metadata": {},
   "outputs": [
    {
     "name": "stdout",
     "output_type": "stream",
     "text": [
      "1 2\n",
      "3 2\n",
      "6 4\n",
      "10 4\n",
      "15 4\n",
      "21 4\n",
      "28 6\n",
      "36 9\n",
      "45 6\n",
      "55 4\n",
      "66 8\n",
      "78 8\n",
      "91 4\n",
      "105 8\n",
      "120 16\n"
     ]
    }
   ],
   "source": [
    "# scrappy implementation -> number of factors found by iterating through 2 -> int(s/2)+1\n",
    "l = []\n",
    "i = 2\n",
    "while True:\n",
    "    count = 2\n",
    "    if (i in l):\n",
    "        i += 1\n",
    "    s = sum(range(i))\n",
    "    for j in range(2, int(s/2)+1):\n",
    "        if (s%j == 0):\n",
    "            count += 1\n",
    "    print(s, count)\n",
    "    if (count >= 10):\n",
    "        break\n",
    "    l.append(i)\n",
    "    i += 1"
   ]
  },
  {
   "cell_type": "code",
   "execution_count": 2,
   "id": "9b8dddc2",
   "metadata": {},
   "outputs": [],
   "source": [
    "# factors can be found by taking prime factorization of N: p1^b1 * p2^b2*...pN*bN -> (b1+1)*(b2+1)*...(bN+1)\n",
    "def isPrime(n):\n",
    "    if (n == 2) or (n == 3):\n",
    "        return True\n",
    "    if (n%2 == 0) or (n%3 == 0):\n",
    "        return False\n",
    "    i = 5\n",
    "    while (i <= int(n**0.5)):\n",
    "        if (n%i == 0) or (n%(i+2) == 0):\n",
    "            return False\n",
    "        i += 6\n",
    "    return True\n",
    "\n",
    "def primestoN(n):\n",
    "    l = []\n",
    "    for i in range(2, int(n/2)+1):\n",
    "        if isPrime(i):\n",
    "            l.append(i)\n",
    "    return l "
   ]
  },
  {
   "cell_type": "code",
   "execution_count": 10,
   "id": "cbc2a64b",
   "metadata": {},
   "outputs": [],
   "source": [
    "def factorization(n):\n",
    "    l = primestoN(n)\n",
    "    f = []\n",
    "    while (n > 1):\n",
    "        if (isPrime(n) == True):\n",
    "            f.append(n)\n",
    "            break\n",
    "        for j in l:\n",
    "            if (n%j == 0):\n",
    "                f.append(j)\n",
    "                n //= j\n",
    "    f.sort()\n",
    "    return f\n",
    "def nf(l: list):\n",
    "    e = []\n",
    "    print(l)\n",
    "    for j in l:\n",
    "        if (j in e):\n",
    "            break\n",
    "        else:\n",
    "            "
   ]
  },
  {
   "cell_type": "code",
   "execution_count": 11,
   "id": "924cb3bf",
   "metadata": {},
   "outputs": [
    {
     "data": {
      "text/plain": [
       "[2, 2, 2, 5]"
      ]
     },
     "execution_count": 11,
     "metadata": {},
     "output_type": "execute_result"
    }
   ],
   "source": [
    "factorization(40)"
   ]
  },
  {
   "cell_type": "code",
   "execution_count": 12,
   "id": "8fdf6dc0",
   "metadata": {},
   "outputs": [
    {
     "name": "stdout",
     "output_type": "stream",
     "text": [
      "3.2\n"
     ]
    }
   ],
   "source": [
    "nf(3.2)"
   ]
  },
  {
   "cell_type": "code",
   "execution_count": null,
   "id": "23a0d65f",
   "metadata": {},
   "outputs": [],
   "source": []
  }
 ],
 "metadata": {
  "kernelspec": {
   "display_name": "Python 3 (ipykernel)",
   "language": "python",
   "name": "python3"
  },
  "language_info": {
   "codemirror_mode": {
    "name": "ipython",
    "version": 3
   },
   "file_extension": ".py",
   "mimetype": "text/x-python",
   "name": "python",
   "nbconvert_exporter": "python",
   "pygments_lexer": "ipython3",
   "version": "3.9.12"
  }
 },
 "nbformat": 4,
 "nbformat_minor": 5
}
