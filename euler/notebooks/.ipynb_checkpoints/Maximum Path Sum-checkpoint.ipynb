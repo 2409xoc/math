{
 "cells": [
  {
   "cell_type": "code",
   "execution_count": null,
   "id": "6be09518",
   "metadata": {},
   "outputs": [],
   "source": [
    "# formatting\n",
    "import numpy as np\n",
    "f = open(\"/Users/henry/fun/euler/sources/path.txt\").read().split(\"\\n\")\n",
    "p = []\n",
    "for i in f:\n",
    "    if (i != ''):\n",
    "        i = i.split(\" \")\n",
    "        for n in range(len(i)):\n",
    "            i[n] = int(i[n])\n",
    "        p.append(i)"
   ]
  },
  {
   "cell_type": "code",
   "execution_count": 21,
   "id": "3b9fd316",
   "metadata": {
    "scrolled": true
   },
   "outputs": [
    {
     "data": {
      "text/plain": [
       "[[75],\n",
       " [95, 64],\n",
       " [17, 47, 82],\n",
       " [18, 35, 87, 10],\n",
       " [20, 4, 82, 47, 65],\n",
       " [19, 1, 23, 75, 3, 34],\n",
       " [88, 2, 77, 73, 7, 63, 67],\n",
       " [99, 65, 4, 28, 6, 16, 70, 92],\n",
       " [41, 41, 26, 56, 83, 40, 80, 70, 33],\n",
       " [41, 48, 72, 33, 47, 32, 37, 16, 94, 29]]"
      ]
     },
     "execution_count": 21,
     "metadata": {},
     "output_type": "execute_result"
    }
   ],
   "source": [
    "p = p[:10]\n",
    "p"
   ]
  },
  {
   "cell_type": "code",
   "execution_count": 22,
   "id": "bbeba58c",
   "metadata": {
    "scrolled": true
   },
   "outputs": [
    {
     "name": "stdout",
     "output_type": "stream",
     "text": [
      "123456790\n"
     ]
    },
    {
     "ename": "KeyboardInterrupt",
     "evalue": "",
     "output_type": "error",
     "traceback": [
      "\u001b[0;31m---------------------------------------------------------------------------\u001b[0m",
      "\u001b[0;31mKeyboardInterrupt\u001b[0m                         Traceback (most recent call last)",
      "Input \u001b[0;32mIn [22]\u001b[0m, in \u001b[0;36m<cell line: 7>\u001b[0;34m()\u001b[0m\n\u001b[1;32m      7\u001b[0m \u001b[38;5;28;01mfor\u001b[39;00m i \u001b[38;5;129;01min\u001b[39;00m \u001b[38;5;28mrange\u001b[39m(\u001b[38;5;241m0\u001b[39m, mn):\n\u001b[1;32m      8\u001b[0m     i \u001b[38;5;241m=\u001b[39m (np\u001b[38;5;241m.\u001b[39mbase_repr(i, base\u001b[38;5;241m=\u001b[39m\u001b[38;5;28mlen\u001b[39m(p)))\n\u001b[0;32m----> 9\u001b[0m     i \u001b[38;5;241m=\u001b[39m \u001b[38;5;28mstr\u001b[39m(\u001b[38;5;124m\"\u001b[39m\u001b[38;5;124m0\u001b[39m\u001b[38;5;124m\"\u001b[39m\u001b[38;5;241m*\u001b[39m(\u001b[38;5;28;43mlen\u001b[39;49m(p)\u001b[38;5;241m-\u001b[39m\u001b[38;5;28mlen\u001b[39m(\u001b[38;5;28mstr\u001b[39m(i)))\u001b[38;5;241m+\u001b[39m\u001b[38;5;28mstr\u001b[39m(i))\n\u001b[1;32m     10\u001b[0m     \u001b[38;5;66;03m# checking if i[n-1] is ever greater than i[n] and if i[n-1] is ever 2 less than i[n]\u001b[39;00m\n\u001b[1;32m     11\u001b[0m     fo, ft \u001b[38;5;241m=\u001b[39m \u001b[38;5;28;01mTrue\u001b[39;00m, \u001b[38;5;28;01mTrue\u001b[39;00m\n",
      "\u001b[0;31mKeyboardInterrupt\u001b[0m: "
     ]
    }
   ],
   "source": [
    "mn = \"\"\n",
    "for i in range(1,len(p)):\n",
    "  mn += np.base_repr(i, base=len(p))\n",
    "mn = int(mn, len(p)) + 1\n",
    "print(mn)\n",
    "combinations = []\n",
    "for i in range(0, mn):\n",
    "    i = (np.base_repr(i, base=len(p)))\n",
    "    i = str(\"0\"*(len(p)-len(str(i)))+str(i))\n",
    "    # checking if i[n-1] is ever greater than i[n] and if i[n-1] is ever 2 less than i[n]\n",
    "    fo, ft = True, True\n",
    "    for n in range(1, len(p)):\n",
    "        if (int(i[n], len(p)) < int(i[n-1], len(p))):\n",
    "            fo = False\n",
    "        if (int(i[n], len(p)) - int(i[n-1], len(p)) > 1):\n",
    "            ft = False\n",
    "    if (ft == True and fo == True):\n",
    "        combinations.append(list(i))"
   ]
  },
  {
   "cell_type": "code",
   "execution_count": null,
   "id": "5855111f",
   "metadata": {},
   "outputs": [],
   "source": [
    "m = 0\n",
    "for i in combinations:\n",
    "    s = 0\n",
    "    for j in range(len(i)):\n",
    "        s += p[j][int(i[j])]\n",
    "    if (s > m):\n",
    "        m = s"
   ]
  },
  {
   "cell_type": "code",
   "execution_count": null,
   "id": "75d62869",
   "metadata": {},
   "outputs": [],
   "source": [
    "m"
   ]
  },
  {
   "cell_type": "code",
   "execution_count": null,
   "id": "b2199877",
   "metadata": {},
   "outputs": [],
   "source": [
    "combinations"
   ]
  },
  {
   "cell_type": "code",
   "execution_count": 18,
   "id": "d79cea1c",
   "metadata": {
    "scrolled": false
   },
   "outputs": [
    {
     "name": "stdout",
     "output_type": "stream",
     "text": [
      "1 13\n",
      "2 12\n",
      "3 11\n",
      "4 10\n",
      "5 9\n",
      "6 8\n",
      "7 7\n",
      "8 6\n",
      "9 5\n",
      "10 4\n",
      "11 3\n",
      "12 2\n",
      "13 1\n",
      "14 0\n"
     ]
    }
   ],
   "source": [
    "n = \"123456789ABCDE\"\n",
    "s = 0\n",
    "g = [\"A\", 10, \"B\", 11, \"C\", 12, \"D\", 13, \"E\", 14]\n",
    "for i in range(len(n)):\n",
    "    p = (len(n)-(i+1))\n",
    "    v = n[i]\n",
    "    if (v in g[::2]):\n",
    "        v = g[g.index(v)+1]\n",
    "    print(v, p)\n",
    "    s += int(v) * 15 ** p"
   ]
  },
  {
   "cell_type": "code",
   "execution_count": 8,
   "id": "2a4f118a",
   "metadata": {},
   "outputs": [
    {
     "data": {
      "text/plain": [
       "2234152501943159"
      ]
     },
     "execution_count": 8,
     "metadata": {},
     "output_type": "execute_result"
    }
   ],
   "source": [
    "s"
   ]
  },
  {
   "cell_type": "code",
   "execution_count": null,
   "id": "11e0b764",
   "metadata": {},
   "outputs": [],
   "source": []
  }
 ],
 "metadata": {
  "interpreter": {
   "hash": "aee8b7b246df8f9039afb4144a1f6fd8d2ca17a180786b69acc140d282b71a49"
  },
  "kernelspec": {
   "display_name": "Python 3 (ipykernel)",
   "language": "python",
   "name": "python3"
  },
  "language_info": {
   "codemirror_mode": {
    "name": "ipython",
    "version": 3
   },
   "file_extension": ".py",
   "mimetype": "text/x-python",
   "name": "python",
   "nbconvert_exporter": "python",
   "pygments_lexer": "ipython3",
   "version": "3.9.12"
  }
 },
 "nbformat": 4,
 "nbformat_minor": 5
}
