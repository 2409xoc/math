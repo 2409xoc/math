{
 "cells": [
  {
   "cell_type": "code",
   "execution_count": 1,
   "id": "8fce5e9f",
   "metadata": {},
   "outputs": [
    {
     "name": "stdout",
     "output_type": "stream",
     "text": [
      "31875000 200 375 425\n",
      "31875000 375 200 425\n"
     ]
    }
   ],
   "source": [
    "# scrappy implementation\n",
    "m = 1000\n",
    "for x in range(m):\n",
    "    for y in range(m):\n",
    "        z=m-(x+y)\n",
    "        if (z**2 == x**2 + y**2) and (x*y*z != 0):\n",
    "             print(x*y*z, x,y,z)"
   ]
  },
  {
   "cell_type": "markdown",
   "id": "10349ece",
   "metadata": {},
   "source": [
    "### Theory\n",
    "**Primitive Pythagorean Triple Theory:**\n",
    "a = m^2-n^2, b=2mn, c=m^2 + n^2 where m>n>0, m or n % 2 == 0, gcd (m,n) = 1\n",
    "\n",
    "All Pythagorean Triples are multiples of primitives (scalar of d): \n",
    "* a = d*(m^2-n^2)\n",
    "* b = d*(2mn)\n",
    "* c = d*(m^2+n^2)\n",
    "\n",
    "Therefore:\n",
    "a+b+c = d((m^2-n^2) + (2mn) + (m^2+n^2)) = s\n",
    "= d(2m^2+2mn)\n",
    "= d*2m*(m+n)= s -> since Pythagorean Triples are nonlinear Diophantine equations: all ints.\n",
    "\n",
    "Integer Solve:\n",
    "dm(m+n)= s/2 -> s **should** be even \n",
    "find m as a factor of s/2 (d(m+n)*m = s/2)-> m+n can be simplified to k\n",
    "find k as a factor of s/2m where gcd(m, k)=1 & m<k<2m (basically, n<m) (dk=s/2m)\n",
    "n = k-m\n",
    "d = s/2mk"
   ]
  },
  {
   "cell_type": "code",
   "execution_count": 2,
   "id": "7ed29017",
   "metadata": {},
   "outputs": [
    {
     "ename": "NameError",
     "evalue": "name 'sm' is not defined",
     "output_type": "error",
     "traceback": [
      "\u001b[0;31m---------------------------------------------------------------------------\u001b[0m",
      "\u001b[0;31mNameError\u001b[0m                                 Traceback (most recent call last)",
      "Input \u001b[0;32mIn [2]\u001b[0m, in \u001b[0;36m<cell line: 5>\u001b[0;34m()\u001b[0m\n\u001b[1;32m     12\u001b[0m \u001b[38;5;28;01melse\u001b[39;00m:\n\u001b[1;32m     13\u001b[0m     k \u001b[38;5;241m=\u001b[39m m\u001b[38;5;241m+\u001b[39m\u001b[38;5;241m1\u001b[39m\n\u001b[0;32m---> 14\u001b[0m \u001b[38;5;28;01mwhile\u001b[39;00m (k\u001b[38;5;241m<\u001b[39m\u001b[38;5;241m2\u001b[39m\u001b[38;5;241m*\u001b[39mm \u001b[38;5;129;01mand\u001b[39;00m k \u001b[38;5;241m<\u001b[39m\u001b[38;5;241m=\u001b[39m \u001b[43msm\u001b[49m):\n\u001b[1;32m     15\u001b[0m     \u001b[38;5;28;01mif\u001b[39;00m (tt\u001b[38;5;241m%\u001b[39mk \u001b[38;5;241m==\u001b[39m \u001b[38;5;241m0\u001b[39m) \u001b[38;5;129;01mand\u001b[39;00m (math\u001b[38;5;241m.\u001b[39mgcd(k, m) \u001b[38;5;241m==\u001b[39m \u001b[38;5;241m1\u001b[39m):\n\u001b[1;32m     16\u001b[0m         d \u001b[38;5;241m=\u001b[39m ts\u001b[38;5;241m/\u001b[39m(m\u001b[38;5;241m*\u001b[39mk)\n",
      "\u001b[0;31mNameError\u001b[0m: name 'sm' is not defined"
     ]
    }
   ],
   "source": [
    "import math\n",
    "s = 1050\n",
    "ts = int(s/2)\n",
    "l = int(ts**0.5)\n",
    "for m in range(2, l):\n",
    "    if (ts % m == 0):\n",
    "        tt = ts/m\n",
    "        while (tt%2 == 0):\n",
    "            tt /= 2\n",
    "        if (m%2 == 1):\n",
    "            k = m + 2\n",
    "        else:\n",
    "            k = m+1\n",
    "        while (k<2*m and k <= sm):\n",
    "            if (tt%k == 0) and (math.gcd(k, m) == 1):\n",
    "                d = ts/(m*k)\n",
    "                n = k-m\n",
    "                a = d*(m**2-n**2)\n",
    "                b = d*(2*m*n)\n",
    "                c = d*(m**2 + n**2)\n",
    "                print(a,b,c)\n",
    "            k += 2"
   ]
  },
  {
   "cell_type": "code",
   "execution_count": 100,
   "id": "f21652a0",
   "metadata": {},
   "outputs": [
    {
     "data": {
      "text/plain": [
       "22"
      ]
     },
     "execution_count": 100,
     "metadata": {},
     "output_type": "execute_result"
    }
   ],
   "source": [
    "l"
   ]
  },
  {
   "cell_type": "code",
   "execution_count": null,
   "id": "fb8f28b3",
   "metadata": {},
   "outputs": [],
   "source": []
  }
 ],
 "metadata": {
  "kernelspec": {
   "display_name": "Python 3 (ipykernel)",
   "language": "python",
   "name": "python3"
  },
  "language_info": {
   "codemirror_mode": {
    "name": "ipython",
    "version": 3
   },
   "file_extension": ".py",
   "mimetype": "text/x-python",
   "name": "python",
   "nbconvert_exporter": "python",
   "pygments_lexer": "ipython3",
   "version": "3.9.12"
  }
 },
 "nbformat": 4,
 "nbformat_minor": 5
}
