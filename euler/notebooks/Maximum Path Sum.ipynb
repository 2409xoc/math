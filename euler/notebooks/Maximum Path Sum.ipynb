{
 "cells": [
  {
   "cell_type": "code",
   "execution_count": 1,
   "id": "6be09518",
   "metadata": {},
   "outputs": [],
   "source": [
    "# formatting\n",
    "import numpy as np\n",
    "f = open(\"/Users/henry/fun/math/euler/sources/path.txt\").read().split(\"\\n\")\n",
    "p = []\n",
    "for i in f:\n",
    "    if (i != ''):\n",
    "        i = i.split(\" \")\n",
    "        for n in range(len(i)):\n",
    "            i[n] = int(i[n])\n",
    "        p.append(i)"
   ]
  },
  {
   "cell_type": "code",
   "execution_count": 2,
   "id": "3b9fd316",
   "metadata": {
    "scrolled": true
   },
   "outputs": [
    {
     "data": {
      "text/plain": [
       "[[75],\n",
       " [95, 64],\n",
       " [17, 47, 82],\n",
       " [18, 35, 87, 10],\n",
       " [20, 4, 82, 47, 65],\n",
       " [19, 1, 23, 75, 3, 34],\n",
       " [88, 2, 77, 73, 7, 63, 67],\n",
       " [99, 65, 4, 28, 6, 16, 70, 92],\n",
       " [41, 41, 26, 56, 83, 40, 80, 70, 33],\n",
       " [41, 48, 72, 33, 47, 32, 37, 16, 94, 29],\n",
       " [53, 71, 44, 65, 25, 43, 91, 52, 97, 51, 14]]"
      ]
     },
     "execution_count": 2,
     "metadata": {},
     "output_type": "execute_result"
    }
   ],
   "source": [
    "p = p[:11]\n",
    "p"
   ]
  },
  {
   "cell_type": "code",
   "execution_count": null,
   "id": "bbeba58c",
   "metadata": {
    "scrolled": true
   },
   "outputs": [
    {
     "name": "stdout",
     "output_type": "stream",
     "text": [
      "2853116706\n"
     ]
    }
   ],
   "source": [
    "mn = \"\"\n",
    "for i in range(1,len(p)):\n",
    "  mn += np.base_repr(i, base=len(p))\n",
    "mn = int(mn, len(p)) + 1\n",
    "print(mn)\n",
    "combinations = []\n",
    "for i in range(0, mn):\n",
    "    i = (np.base_repr(i, base=len(p)))\n",
    "    i = str(\"0\"*(len(p)-len(str(i)))+str(i))\n",
    "    # checking if i[n-1] is ever greater than i[n] and if i[n-1] is ever 2 less than i[n]\n",
    "    fo, ft = True, True\n",
    "    for n in range(1, len(p)):\n",
    "        if (int(i[n], len(p)) < int(i[n-1], len(p))):\n",
    "            fo = False\n",
    "        if (int(i[n], len(p)) - int(i[n-1], len(p)) > 1):\n",
    "            ft = False\n",
    "    if (ft == True and fo == True):\n",
    "        combinations.append(list(i))"
   ]
  },
  {
   "cell_type": "code",
   "execution_count": null,
   "id": "5855111f",
   "metadata": {},
   "outputs": [],
   "source": [
    "m = 0\n",
    "for i in combinations:\n",
    "    s = 0\n",
    "    for j in range(len(i)):\n",
    "        s += p[j][int(i[j])]\n",
    "    if (s > m):\n",
    "        m = s"
   ]
  },
  {
   "cell_type": "code",
   "execution_count": null,
   "id": "75d62869",
   "metadata": {},
   "outputs": [],
   "source": [
    "m"
   ]
  },
  {
   "cell_type": "code",
   "execution_count": null,
   "id": "b2199877",
   "metadata": {},
   "outputs": [],
   "source": [
    "combinations"
   ]
  },
  {
   "cell_type": "code",
   "execution_count": null,
   "id": "d79cea1c",
   "metadata": {
    "scrolled": false
   },
   "outputs": [],
   "source": [
    "n = \"123456789ABCDE\"\n",
    "s = 0\n",
    "g = [\"A\", 10, \"B\", 11, \"C\", 12, \"D\", 13, \"E\", 14]\n",
    "for i in range(len(n)):\n",
    "    p = (len(n)-(i+1))\n",
    "    v = n[i]\n",
    "    if (v in g[::2]):\n",
    "        v = g[g.index(v)+1]\n",
    "    print(v, p)\n",
    "    s += int(v) * 15 ** p"
   ]
  },
  {
   "cell_type": "code",
   "execution_count": null,
   "id": "2a4f118a",
   "metadata": {},
   "outputs": [],
   "source": [
    "s"
   ]
  },
  {
   "cell_type": "code",
   "execution_count": null,
   "id": "11e0b764",
   "metadata": {},
   "outputs": [],
   "source": []
  }
 ],
 "metadata": {
  "interpreter": {
   "hash": "aee8b7b246df8f9039afb4144a1f6fd8d2ca17a180786b69acc140d282b71a49"
  },
  "kernelspec": {
   "display_name": "Python 3 (ipykernel)",
   "language": "python",
   "name": "python3"
  },
  "language_info": {
   "codemirror_mode": {
    "name": "ipython",
    "version": 3
   },
   "file_extension": ".py",
   "mimetype": "text/x-python",
   "name": "python",
   "nbconvert_exporter": "python",
   "pygments_lexer": "ipython3",
   "version": "3.9.12"
  }
 },
 "nbformat": 4,
 "nbformat_minor": 5
}
