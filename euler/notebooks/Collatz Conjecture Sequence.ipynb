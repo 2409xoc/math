{
 "cells": [
  {
   "cell_type": "code",
   "execution_count": 1,
   "id": "e5c95db3",
   "metadata": {},
   "outputs": [
    {
     "name": "stdout",
     "output_type": "stream",
     "text": [
      "837799\n"
     ]
    }
   ],
   "source": [
    "l = []\n",
    "x = 1000000\n",
    "for n in range(1,x):\n",
    "    i = n\n",
    "    count = 0\n",
    "    while (n != 1):\n",
    "        if (n%2 == 0):\n",
    "            n /= 2\n",
    "        else:\n",
    "            n = 3*n + 1\n",
    "        count += 1\n",
    "    l.append(count)\n",
    "print(l.index(max(l))+1)"
   ]
  },
  {
   "cell_type": "code",
   "execution_count": 2,
   "id": "25fcb94b",
   "metadata": {},
   "outputs": [
    {
     "data": {
      "text/plain": [
       "837798"
      ]
     },
     "execution_count": 2,
     "metadata": {},
     "output_type": "execute_result"
    }
   ],
   "source": [
    "l.index(524)"
   ]
  },
  {
   "cell_type": "code",
   "execution_count": null,
   "id": "1ae085c9",
   "metadata": {},
   "outputs": [],
   "source": []
  }
 ],
 "metadata": {
  "kernelspec": {
   "display_name": "Python 3 (ipykernel)",
   "language": "python",
   "name": "python3"
  },
  "language_info": {
   "codemirror_mode": {
    "name": "ipython",
    "version": 3
   },
   "file_extension": ".py",
   "mimetype": "text/x-python",
   "name": "python",
   "nbconvert_exporter": "python",
   "pygments_lexer": "ipython3",
   "version": "3.9.12"
  }
 },
 "nbformat": 4,
 "nbformat_minor": 5
}
