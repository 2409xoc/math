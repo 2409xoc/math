{
 "cells": [
  {
   "cell_type": "markdown",
   "id": "98581d3e",
   "metadata": {},
   "source": [
    "### Scrappy Implementation : Looking for Amount of Factors through 2 to s/2"
   ]
  },
  {
   "cell_type": "code",
   "execution_count": 11,
   "id": "47d028c1",
   "metadata": {},
   "outputs": [
    {
     "name": "stdout",
     "output_type": "stream",
     "text": [
      "1 2\n",
      "3 2\n",
      "6 4\n",
      "10 4\n",
      "15 4\n",
      "21 4\n",
      "28 6\n",
      "36 9\n",
      "45 6\n",
      "55 4\n",
      "66 8\n",
      "78 8\n",
      "91 4\n",
      "105 8\n",
      "120 16\n",
      "136 8\n",
      "153 6\n",
      "171 6\n",
      "190 8\n",
      "210 16\n",
      "231 8\n",
      "253 4\n",
      "276 12\n",
      "300 18\n",
      "325 6\n",
      "351 8\n",
      "378 16\n",
      "406 8\n",
      "435 8\n",
      "465 8\n",
      "496 10\n",
      "528 20\n",
      "561 8\n",
      "595 8\n",
      "630 24\n",
      "666 12\n",
      "703 4\n",
      "741 8\n",
      "780 24\n",
      "820 12\n",
      "861 8\n",
      "903 8\n",
      "946 8\n",
      "990 24\n",
      "1035 12\n",
      "1081 4\n",
      "1128 16\n",
      "1176 24\n",
      "1225 9\n",
      "1275 12\n",
      "1326 16\n",
      "1378 8\n",
      "1431 8\n",
      "1485 16\n",
      "1540 24\n",
      "1596 24\n",
      "1653 8\n",
      "1711 4\n",
      "1770 16\n",
      "1830 16\n",
      "1891 4\n",
      "1953 12\n",
      "2016 36\n"
     ]
    }
   ],
   "source": [
    "l = []\n",
    "i = 2\n",
    "while True:\n",
    "    count = 2\n",
    "    if (i in l):\n",
    "        i += 1\n",
    "    s = sum(range(i))\n",
    "    for j in range(2, int(s/2)+1):\n",
    "        if (s%j == 0):\n",
    "            count += 1\n",
    "    print(s, count)\n",
    "    if (count >= 30):\n",
    "        break\n",
    "    l.append(i)\n",
    "    i += 1"
   ]
  },
  {
   "cell_type": "markdown",
   "id": "275e9a49",
   "metadata": {},
   "source": [
    "### Impractical (but improved) Algorithm"
   ]
  },
  {
   "cell_type": "code",
   "execution_count": 5,
   "id": "9b8dddc2",
   "metadata": {},
   "outputs": [],
   "source": [
    "# factors can be found by taking prime factorization of N: p1^b1 * p2^b2*...pN*bN -> (b1+1)*(b2+1)*...(bN+1)\n",
    "def isPrime(n):\n",
    "    if (n == 2) or (n == 3):\n",
    "        return True\n",
    "    if (n%2 == 0) or (n%3 == 0):\n",
    "        return False\n",
    "    i = 5\n",
    "    while (i <= int(n**0.5)):\n",
    "        if (n%i == 0) or (n%(i+2) == 0):\n",
    "            return False\n",
    "        i += 6\n",
    "    return True\n",
    "\n",
    "def primestoN(n):\n",
    "    l = []\n",
    "    for i in range(2, int(n/2)+1):\n",
    "        if isPrime(i):\n",
    "            l.append(i)\n",
    "    return l "
   ]
  },
  {
   "cell_type": "code",
   "execution_count": 6,
   "id": "cbc2a64b",
   "metadata": {},
   "outputs": [],
   "source": [
    "def factorization(n):\n",
    "    l = primestoN(n)\n",
    "    f = []\n",
    "    while (n > 1):\n",
    "        if (isPrime(n) == True):\n",
    "            f.append(n)\n",
    "            break\n",
    "        for j in l:\n",
    "            if (n%j == 0):\n",
    "                f.append(j)\n",
    "                n //= j\n",
    "    f.sort()\n",
    "    return f\n",
    "\n",
    "def nf(l: list):\n",
    "    e = []\n",
    "    count = 1\n",
    "    for j in l:\n",
    "        if (j not in e):\n",
    "            e.append(j)\n",
    "            count *= (l.count(j)+1)\n",
    "    return count"
   ]
  },
  {
   "cell_type": "code",
   "execution_count": 7,
   "id": "924cb3bf",
   "metadata": {},
   "outputs": [
    {
     "data": {
      "text/plain": [
       "[2, 3, 5, 41]"
      ]
     },
     "execution_count": 7,
     "metadata": {},
     "output_type": "execute_result"
    }
   ],
   "source": [
    "factorization(1230)"
   ]
  },
  {
   "cell_type": "code",
   "execution_count": 9,
   "id": "8fdf6dc0",
   "metadata": {},
   "outputs": [
    {
     "data": {
      "text/plain": [
       "[2, 2, 3, 3]"
      ]
     },
     "execution_count": 9,
     "metadata": {},
     "output_type": "execute_result"
    }
   ],
   "source": [
    "factorization(36)"
   ]
  },
  {
   "cell_type": "code",
   "execution_count": 12,
   "id": "1cc9bbf8",
   "metadata": {},
   "outputs": [
    {
     "ename": "KeyboardInterrupt",
     "evalue": "",
     "output_type": "error",
     "traceback": [
      "\u001b[0;31m---------------------------------------------------------------------------\u001b[0m",
      "\u001b[0;31mKeyboardInterrupt\u001b[0m                         Traceback (most recent call last)",
      "Input \u001b[0;32mIn [12]\u001b[0m, in \u001b[0;36m<cell line: 2>\u001b[0;34m()\u001b[0m\n\u001b[1;32m      2\u001b[0m \u001b[38;5;28;01mwhile\u001b[39;00m (m \u001b[38;5;241m<\u001b[39m \u001b[38;5;241m500\u001b[39m):\n\u001b[1;32m      3\u001b[0m     tn \u001b[38;5;241m=\u001b[39m \u001b[38;5;28msum\u001b[39m(\u001b[38;5;28mrange\u001b[39m(i))\n\u001b[0;32m----> 4\u001b[0m     count \u001b[38;5;241m=\u001b[39m nf(\u001b[43mfactorization\u001b[49m\u001b[43m(\u001b[49m\u001b[43mtn\u001b[49m\u001b[43m)\u001b[49m)\n\u001b[1;32m      5\u001b[0m     \u001b[38;5;28;01mif\u001b[39;00m (count \u001b[38;5;241m>\u001b[39m m):\n\u001b[1;32m      6\u001b[0m         m \u001b[38;5;241m=\u001b[39m count\n",
      "Input \u001b[0;32mIn [6]\u001b[0m, in \u001b[0;36mfactorization\u001b[0;34m(n)\u001b[0m\n\u001b[1;32m      1\u001b[0m \u001b[38;5;28;01mdef\u001b[39;00m \u001b[38;5;21mfactorization\u001b[39m(n):\n\u001b[0;32m----> 2\u001b[0m     l \u001b[38;5;241m=\u001b[39m \u001b[43mprimestoN\u001b[49m\u001b[43m(\u001b[49m\u001b[43mn\u001b[49m\u001b[43m)\u001b[49m\n\u001b[1;32m      3\u001b[0m     f \u001b[38;5;241m=\u001b[39m []\n\u001b[1;32m      4\u001b[0m     \u001b[38;5;28;01mwhile\u001b[39;00m (n \u001b[38;5;241m>\u001b[39m \u001b[38;5;241m1\u001b[39m):\n",
      "Input \u001b[0;32mIn [5]\u001b[0m, in \u001b[0;36mprimestoN\u001b[0;34m(n)\u001b[0m\n\u001b[1;32m     15\u001b[0m l \u001b[38;5;241m=\u001b[39m []\n\u001b[1;32m     16\u001b[0m \u001b[38;5;28;01mfor\u001b[39;00m i \u001b[38;5;129;01min\u001b[39;00m \u001b[38;5;28mrange\u001b[39m(\u001b[38;5;241m2\u001b[39m, \u001b[38;5;28mint\u001b[39m(n\u001b[38;5;241m/\u001b[39m\u001b[38;5;241m2\u001b[39m)\u001b[38;5;241m+\u001b[39m\u001b[38;5;241m1\u001b[39m):\n\u001b[0;32m---> 17\u001b[0m     \u001b[38;5;28;01mif\u001b[39;00m \u001b[43misPrime\u001b[49m\u001b[43m(\u001b[49m\u001b[43mi\u001b[49m\u001b[43m)\u001b[49m:\n\u001b[1;32m     18\u001b[0m         l\u001b[38;5;241m.\u001b[39mappend(i)\n\u001b[1;32m     19\u001b[0m \u001b[38;5;28;01mreturn\u001b[39;00m l\n",
      "Input \u001b[0;32mIn [5]\u001b[0m, in \u001b[0;36misPrime\u001b[0;34m(n)\u001b[0m\n\u001b[1;32m      6\u001b[0m     \u001b[38;5;28;01mreturn\u001b[39;00m \u001b[38;5;28;01mFalse\u001b[39;00m\n\u001b[1;32m      7\u001b[0m i \u001b[38;5;241m=\u001b[39m \u001b[38;5;241m5\u001b[39m\n\u001b[0;32m----> 8\u001b[0m \u001b[38;5;28;01mwhile\u001b[39;00m (i \u001b[38;5;241m<\u001b[39m\u001b[38;5;241m=\u001b[39m \u001b[38;5;28;43mint\u001b[39;49m(n\u001b[38;5;241m*\u001b[39m\u001b[38;5;241m*\u001b[39m\u001b[38;5;241m0.5\u001b[39m)):\n\u001b[1;32m      9\u001b[0m     \u001b[38;5;28;01mif\u001b[39;00m (n\u001b[38;5;241m%\u001b[39mi \u001b[38;5;241m==\u001b[39m \u001b[38;5;241m0\u001b[39m) \u001b[38;5;129;01mor\u001b[39;00m (n\u001b[38;5;241m%\u001b[39m(i\u001b[38;5;241m+\u001b[39m\u001b[38;5;241m2\u001b[39m) \u001b[38;5;241m==\u001b[39m \u001b[38;5;241m0\u001b[39m):\n\u001b[1;32m     10\u001b[0m         \u001b[38;5;28;01mreturn\u001b[39;00m \u001b[38;5;28;01mFalse\u001b[39;00m\n",
      "\u001b[0;31mKeyboardInterrupt\u001b[0m: "
     ]
    }
   ],
   "source": [
    "m, i = 0, 1\n",
    "while (m < 500):\n",
    "    tn = sum(range(i))\n",
    "    count = nf(factorization(tn))\n",
    "    if (count > m):\n",
    "        m = count\n",
    "    i += 1\n",
    "print(tn, m)"
   ]
  },
  {
   "cell_type": "code",
   "execution_count": 13,
   "id": "54afc5eb",
   "metadata": {},
   "outputs": [
    {
     "ename": "KeyboardInterrupt",
     "evalue": "",
     "output_type": "error",
     "traceback": [
      "\u001b[0;31m---------------------------------------------------------------------------\u001b[0m",
      "\u001b[0;31mKeyboardInterrupt\u001b[0m                         Traceback (most recent call last)",
      "Input \u001b[0;32mIn [13]\u001b[0m, in \u001b[0;36m<cell line: 1>\u001b[0;34m()\u001b[0m\n\u001b[0;32m----> 1\u001b[0m \u001b[43mfactorization\u001b[49m\u001b[43m(\u001b[49m\u001b[38;5;241;43m76576500\u001b[39;49m\u001b[43m)\u001b[49m\n",
      "Input \u001b[0;32mIn [6]\u001b[0m, in \u001b[0;36mfactorization\u001b[0;34m(n)\u001b[0m\n\u001b[1;32m      1\u001b[0m \u001b[38;5;28;01mdef\u001b[39;00m \u001b[38;5;21mfactorization\u001b[39m(n):\n\u001b[0;32m----> 2\u001b[0m     l \u001b[38;5;241m=\u001b[39m \u001b[43mprimestoN\u001b[49m\u001b[43m(\u001b[49m\u001b[43mn\u001b[49m\u001b[43m)\u001b[49m\n\u001b[1;32m      3\u001b[0m     f \u001b[38;5;241m=\u001b[39m []\n\u001b[1;32m      4\u001b[0m     \u001b[38;5;28;01mwhile\u001b[39;00m (n \u001b[38;5;241m>\u001b[39m \u001b[38;5;241m1\u001b[39m):\n",
      "Input \u001b[0;32mIn [5]\u001b[0m, in \u001b[0;36mprimestoN\u001b[0;34m(n)\u001b[0m\n\u001b[1;32m     15\u001b[0m l \u001b[38;5;241m=\u001b[39m []\n\u001b[1;32m     16\u001b[0m \u001b[38;5;28;01mfor\u001b[39;00m i \u001b[38;5;129;01min\u001b[39;00m \u001b[38;5;28mrange\u001b[39m(\u001b[38;5;241m2\u001b[39m, \u001b[38;5;28mint\u001b[39m(n\u001b[38;5;241m/\u001b[39m\u001b[38;5;241m2\u001b[39m)\u001b[38;5;241m+\u001b[39m\u001b[38;5;241m1\u001b[39m):\n\u001b[0;32m---> 17\u001b[0m     \u001b[38;5;28;01mif\u001b[39;00m \u001b[43misPrime\u001b[49m\u001b[43m(\u001b[49m\u001b[43mi\u001b[49m\u001b[43m)\u001b[49m:\n\u001b[1;32m     18\u001b[0m         l\u001b[38;5;241m.\u001b[39mappend(i)\n\u001b[1;32m     19\u001b[0m \u001b[38;5;28;01mreturn\u001b[39;00m l\n",
      "Input \u001b[0;32mIn [5]\u001b[0m, in \u001b[0;36misPrime\u001b[0;34m(n)\u001b[0m\n\u001b[1;32m      6\u001b[0m     \u001b[38;5;28;01mreturn\u001b[39;00m \u001b[38;5;28;01mFalse\u001b[39;00m\n\u001b[1;32m      7\u001b[0m i \u001b[38;5;241m=\u001b[39m \u001b[38;5;241m5\u001b[39m\n\u001b[0;32m----> 8\u001b[0m \u001b[38;5;28;01mwhile\u001b[39;00m (i \u001b[38;5;241m<\u001b[39m\u001b[38;5;241m=\u001b[39m \u001b[38;5;28;43mint\u001b[39;49m\u001b[43m(\u001b[49m\u001b[43mn\u001b[49m\u001b[38;5;241;43m*\u001b[39;49m\u001b[38;5;241;43m*\u001b[39;49m\u001b[38;5;241;43m0.5\u001b[39;49m\u001b[43m)\u001b[49m):\n\u001b[1;32m      9\u001b[0m     \u001b[38;5;28;01mif\u001b[39;00m (n\u001b[38;5;241m%\u001b[39mi \u001b[38;5;241m==\u001b[39m \u001b[38;5;241m0\u001b[39m) \u001b[38;5;129;01mor\u001b[39;00m (n\u001b[38;5;241m%\u001b[39m(i\u001b[38;5;241m+\u001b[39m\u001b[38;5;241m2\u001b[39m) \u001b[38;5;241m==\u001b[39m \u001b[38;5;241m0\u001b[39m):\n\u001b[1;32m     10\u001b[0m         \u001b[38;5;28;01mreturn\u001b[39;00m \u001b[38;5;28;01mFalse\u001b[39;00m\n",
      "\u001b[0;31mKeyboardInterrupt\u001b[0m: "
     ]
    }
   ],
   "source": [
    "factorization(76576500)"
   ]
  },
  {
   "cell_type": "code",
   "execution_count": null,
   "id": "1c603bca",
   "metadata": {},
   "outputs": [],
   "source": []
  }
 ],
 "metadata": {
  "interpreter": {
   "hash": "aee8b7b246df8f9039afb4144a1f6fd8d2ca17a180786b69acc140d282b71a49"
  },
  "kernelspec": {
   "display_name": "Python 3 (ipykernel)",
   "language": "python",
   "name": "python3"
  },
  "language_info": {
   "codemirror_mode": {
    "name": "ipython",
    "version": 3
   },
   "file_extension": ".py",
   "mimetype": "text/x-python",
   "name": "python",
   "nbconvert_exporter": "python",
   "pygments_lexer": "ipython3",
   "version": "3.9.12"
  }
 },
 "nbformat": 4,
 "nbformat_minor": 5
}
