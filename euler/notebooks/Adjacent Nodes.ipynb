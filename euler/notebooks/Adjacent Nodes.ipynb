{
 "cells": [
  {
   "cell_type": "code",
   "execution_count": 52,
   "id": "9f563d38",
   "metadata": {},
   "outputs": [],
   "source": [
    "# questions relating to adjacent nodes within a number list\n",
    "import os, time"
   ]
  },
  {
   "cell_type": "markdown",
   "id": "194a07de",
   "metadata": {},
   "source": [
    "### Question 1"
   ]
  },
  {
   "cell_type": "code",
   "execution_count": 1,
   "id": "c074149c",
   "metadata": {},
   "outputs": [
    {
     "data": {
      "text/plain": [
       "'7316717653133062491922511967442657474235534919493496983520312774506326239578318016984801869478851843858615607891129494954595017379583319528532088055111254069874715852386305071569329096329522744304355766896648950445244523161731856403098711121722383113622298934233803081353362766142828064444866452387493035890729629049156044077239071381051585930796086670172427121883998797908792274921901699720888093776657273330010533678812202354218097512545405947522435258490771167055601360483958644670632441572215539753697817977846174064955149290862569321978468622482839722413756570560574902614079729686524145351004748216637048440319989000889524345065854122758866688116427171479924442928230863465674813919123162824586178664583591245665294765456828489128831426076900422421902267105562632111110937054421750694165896040807198403850962455444362981230987879927244284909188845801561660979191338754992005240636899125607176060588611646710940507754100225698315520005593572972571636269561882670428252483600823257530420752963450'"
      ]
     },
     "execution_count": 1,
     "metadata": {},
     "output_type": "execute_result"
    }
   ],
   "source": [
    "f = open(\"/Users/henry/fun/math/euler/sources/adjacent.txt\").read().replace(\"\\n\", \"\")\n",
    "f"
   ]
  },
  {
   "cell_type": "code",
   "execution_count": 2,
   "id": "cc1fe88a",
   "metadata": {},
   "outputs": [],
   "source": [
    "held=0"
   ]
  },
  {
   "cell_type": "code",
   "execution_count": 3,
   "id": "1b250831",
   "metadata": {},
   "outputs": [],
   "source": [
    "for i in range(len(f)-12):\n",
    "    val = 1\n",
    "    for j in range(i, i+13):\n",
    "        val *= int(f[j])\n",
    "    if (val > held):\n",
    "        held = val"
   ]
  },
  {
   "cell_type": "code",
   "execution_count": 4,
   "id": "a9beb8df",
   "metadata": {},
   "outputs": [
    {
     "name": "stdout",
     "output_type": "stream",
     "text": [
      "23514624000\n"
     ]
    }
   ],
   "source": [
    "print(held)"
   ]
  },
  {
   "cell_type": "markdown",
   "id": "916bb7e2",
   "metadata": {},
   "source": [
    "### Question 2"
   ]
  },
  {
   "cell_type": "code",
   "execution_count": 84,
   "id": "6174088e",
   "metadata": {},
   "outputs": [],
   "source": [
    "f = open(\"/Users/henry/fun/math/euler/sources/adjacent2.txt\").read().replace(\"\\n\", \" \").split(\" \")\n",
    "l = [0] * 4"
   ]
  },
  {
   "cell_type": "code",
   "execution_count": 85,
   "id": "1a69b08c",
   "metadata": {},
   "outputs": [
    {
     "data": {
      "text/plain": [
       "(48477312, 51267216)"
      ]
     },
     "execution_count": 85,
     "metadata": {},
     "output_type": "execute_result"
    }
   ],
   "source": [
    "# horizontal and vertical\n",
    "vm = len(f)-4\n",
    "hm = len(f)-61\n",
    "c = 0\n",
    "while True:\n",
    "    if (c < vm):\n",
    "        vmi = 1\n",
    "        for j in range(c, c+4):\n",
    "            vmi *= int(f[j])\n",
    "        if (vmi > l[0]):\n",
    "            l[0] = vmi\n",
    "    if (c < hm):\n",
    "        hmi = 1\n",
    "        for j in range(c, c+4):\n",
    "            hmi *= int(f[c+(20*(j-c))])\n",
    "        if (hmi > l[1]):\n",
    "            l[1] = hmi\n",
    "    if (c >= hm and c >= vm):\n",
    "        break\n",
    "    c += 1\n",
    "l[0], l[1]"
   ]
  },
  {
   "cell_type": "code",
   "execution_count": 86,
   "id": "858b2183",
   "metadata": {},
   "outputs": [],
   "source": [
    "# diagonals\n",
    "for i in range(17):\n",
    "    # for reversed diagonal\n",
    "    nn = i + 3\n",
    "    for j in range(17):\n",
    "        pd, pdi = 1, 1\n",
    "        for n in range(4):\n",
    "            pd *= int(f[20*i + j + 21*n])\n",
    "            pdi *= int(f[20*nn + j - 19*n])\n",
    "            if (pdi > l[3]):\n",
    "                l[3] = pdi\n",
    "            if (pd > l[2]):\n",
    "                l[2] = pd"
   ]
  },
  {
   "cell_type": "code",
   "execution_count": 87,
   "id": "aa78ac5e",
   "metadata": {},
   "outputs": [
    {
     "data": {
      "text/plain": [
       "[48477312, 51267216, 40304286, 70600674]"
      ]
     },
     "execution_count": 87,
     "metadata": {},
     "output_type": "execute_result"
    }
   ],
   "source": [
    "l"
   ]
  },
  {
   "cell_type": "code",
   "execution_count": 59,
   "id": "b68e0518",
   "metadata": {},
   "outputs": [
    {
     "data": {
      "text/plain": [
       "70600674"
      ]
     },
     "execution_count": 59,
     "metadata": {},
     "output_type": "execute_result"
    }
   ],
   "source": [
    "max(l)"
   ]
  },
  {
   "cell_type": "code",
   "execution_count": null,
   "id": "69fb5f73",
   "metadata": {},
   "outputs": [],
   "source": []
  }
 ],
 "metadata": {
  "kernelspec": {
   "display_name": "Python 3 (ipykernel)",
   "language": "python",
   "name": "python3"
  },
  "language_info": {
   "codemirror_mode": {
    "name": "ipython",
    "version": 3
   },
   "file_extension": ".py",
   "mimetype": "text/x-python",
   "name": "python",
   "nbconvert_exporter": "python",
   "pygments_lexer": "ipython3",
   "version": "3.9.12"
  }
 },
 "nbformat": 4,
 "nbformat_minor": 5
}
