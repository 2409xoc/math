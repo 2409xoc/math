{
 "cells": [
  {
   "cell_type": "markdown",
   "id": "e82c904a",
   "metadata": {},
   "source": [
    "### Sentences"
   ]
  },
  {
   "cell_type": "code",
   "execution_count": 12,
   "id": "0ab6ea56",
   "metadata": {},
   "outputs": [
    {
     "name": "stdout",
     "output_type": "stream",
     "text": [
      "1\n",
      "3\n",
      "3\n",
      "2\n",
      "He\n",
      "The cat\n",
      "The dog\n",
      "bit \n",
      "kicked\n",
      "saw\n",
      "him\n",
      "the mouse\n",
      "He bit  him\n",
      "He bit  the mouse\n",
      "He kicked him\n",
      "He kicked the mouse\n",
      "He saw him\n",
      "He saw the mouse\n",
      "The cat bit  him\n",
      "The cat bit  the mouse\n",
      "The cat kicked him\n",
      "The cat kicked the mouse\n",
      "The cat saw him\n",
      "The cat saw the mouse\n",
      "The dog bit  him\n",
      "The dog bit  the mouse\n",
      "The dog kicked him\n",
      "The dog kicked the mouse\n",
      "The dog saw him\n",
      "The dog saw the mouse\n"
     ]
    }
   ],
   "source": [
    "N = int(input())\n",
    "count = []\n",
    "for i in range(N):\n",
    "    total = [[], [], []]\n",
    "    for n in range(3):\n",
    "        count.append(int(input()))\n",
    "    for j in range(len(count)):\n",
    "        for nn in range(count[j]):\n",
    "            total[j].append(input())\n",
    "            \n",
    "for i in total[0]:\n",
    "    for j in total[1]:\n",
    "        for n in total[2]:\n",
    "            print(f\"{i} {j} {n}\")"
   ]
  },
  {
   "cell_type": "markdown",
   "id": "8d89a9fd",
   "metadata": {},
   "source": [
    "### Nasty Numbers"
   ]
  },
  {
   "cell_type": "code",
   "execution_count": 43,
   "id": "5162f3b8",
   "metadata": {},
   "outputs": [
    {
     "name": "stdout",
     "output_type": "stream",
     "text": [
      "4\n",
      "6\n",
      "24\n",
      "30420\n",
      "10078\n"
     ]
    }
   ],
   "source": [
    "N = int(input())\n",
    "num = []\n",
    "for i in range(N):\n",
    "    num.append(int(input()))"
   ]
  },
  {
   "cell_type": "code",
   "execution_count": 75,
   "id": "c64fc6a8",
   "metadata": {
    "scrolled": true
   },
   "outputs": [],
   "source": [
    "def check(n):\n",
    "    f = []\n",
    "    for i in range(1, int(n//2)):\n",
    "        if (n%i == 0):\n",
    "            ff = [i, n//i]\n",
    "            ff.sort()\n",
    "            if (ff not in f):\n",
    "                f.append([i, n//i])\n",
    "    for n in range(len(f)):\n",
    "        for j in range(n+1, len(f)):\n",
    "            if (abs(f[n][0] + f[n][1]) == abs(f[j][0] - f[j][1])) or (abs(f[n][0] - f[n][1]) == abs(f[j][0] + f[j][1])):\n",
    "                return True\n",
    "    return False"
   ]
  },
  {
   "cell_type": "code",
   "execution_count": 51,
   "id": "06741a3a",
   "metadata": {},
   "outputs": [
    {
     "name": "stdout",
     "output_type": "stream",
     "text": [
      "6 is nasty\n",
      "24 is nasty\n",
      "30420 is nasty\n",
      "10078 is not nasty\n"
     ]
    }
   ],
   "source": [
    "for i in num:\n",
    "    if (check(i)) == True:\n",
    "        print(f\"{i} is nasty\")\n",
    "    else:\n",
    "        print(f\"{i} is not nasty\")"
   ]
  },
  {
   "cell_type": "markdown",
   "id": "f8985dc3",
   "metadata": {},
   "source": [
    "### Double Knockout Competition"
   ]
  },
  {
   "cell_type": "code",
   "execution_count": 145,
   "id": "d001d3f1",
   "metadata": {},
   "outputs": [
    {
     "name": "stdout",
     "output_type": "stream",
     "text": [
      "2\n",
      "2\n",
      "3\n",
      "2\n",
      "3\n"
     ]
    }
   ],
   "source": [
    "def turns(teams):   \n",
    "    l = [teams, 0, 0, 0]\n",
    "    while (True):\n",
    "        if (l[0] >= 2):\n",
    "            l[0] -= 1\n",
    "            l[1] += 1\n",
    "        elif (l[1] >= 2):\n",
    "            l[1] -= 1\n",
    "            l[2] += 1\n",
    "        elif (l[0] == 1) and (l[1] == 1):\n",
    "            l[:2] = [0,2]\n",
    "        elif (l[2] == teams-1) and (l[1] == 1):\n",
    "            break\n",
    "        l[-1] += 1\n",
    "    return l[-1]\n",
    "\n",
    "N = int(input())\n",
    "for i in range(N):\n",
    "    print(turns(int(input())))"
   ]
  },
  {
   "cell_type": "markdown",
   "id": "aff0403f",
   "metadata": {},
   "source": [
    "### Dynamic Dictionary Coding"
   ]
  },
  {
   "cell_type": "code",
   "execution_count": 169,
   "id": "c18b3b85",
   "metadata": {},
   "outputs": [
    {
     "name": "stdout",
     "output_type": "stream",
     "text": [
      "1\n",
      "the cat chased the rat while\n",
      "the dog chased the cat into the rat house\n",
      "\n"
     ]
    }
   ],
   "source": [
    "N = int(input())\n",
    "words = []\n",
    "for i in range(N):\n",
    "    s = []\n",
    "    while True:\n",
    "        sentences = input()\n",
    "        if (sentences != \"\"):\n",
    "            s.append(sentences.split(\" \"))\n",
    "        else:\n",
    "            break\n",
    "            "
   ]
  },
  {
   "cell_type": "code",
   "execution_count": 170,
   "id": "555a2ee8",
   "metadata": {},
   "outputs": [
    {
     "name": "stdout",
     "output_type": "stream",
     "text": [
      "the cat chased 1 rat while \n",
      "1 dog 3 1 2 into 1 4 house \n",
      "\n"
     ]
    }
   ],
   "source": [
    "final = \"\"\n",
    "for j in s:\n",
    "    for n in j:\n",
    "        if (n in words):\n",
    "            final += str(words.index(n) + 1) + \" \"\n",
    "        else:\n",
    "            final += n + \" \"\n",
    "            words.append(n)\n",
    "    final += \"\\n\"\n",
    "print(final)"
   ]
  },
  {
   "cell_type": "markdown",
   "id": "dc00c109",
   "metadata": {},
   "source": [
    "### Long Division"
   ]
  },
  {
   "cell_type": "code",
   "execution_count": 180,
   "id": "4114288c",
   "metadata": {},
   "outputs": [
    {
     "name": "stdout",
     "output_type": "stream",
     "text": [
      "2\n",
      "33\n",
      "11\n",
      "11\n",
      "33\n",
      "3\n",
      "0\n",
      "\n",
      "\n",
      "0\n",
      "11\n",
      "\n",
      "\n"
     ]
    }
   ],
   "source": [
    "N = int(input())\n",
    "v = []\n",
    "for i in range(N):\n",
    "    v.append([int(input()), int(input())])\n",
    "\n",
    "for j in v:\n",
    "    d, dv = j[0], j[1]\n",
    "    count = 0\n",
    "    while (d - dv >= 0):\n",
    "        d -= dv\n",
    "        count += 1\n",
    "    print(f\"{count}\\n{d}\")\n",
    "    print(\"\\n\")"
   ]
  },
  {
   "cell_type": "code",
   "execution_count": null,
   "id": "3ba8cade",
   "metadata": {},
   "outputs": [],
   "source": []
  },
  {
   "cell_type": "code",
   "execution_count": null,
   "id": "8505998e",
   "metadata": {},
   "outputs": [],
   "source": []
  }
 ],
 "metadata": {
  "kernelspec": {
   "display_name": "Python 3 (ipykernel)",
   "language": "python",
   "name": "python3"
  },
  "language_info": {
   "codemirror_mode": {
    "name": "ipython",
    "version": 3
   },
   "file_extension": ".py",
   "mimetype": "text/x-python",
   "name": "python",
   "nbconvert_exporter": "python",
   "pygments_lexer": "ipython3",
   "version": "3.9.12"
  }
 },
 "nbformat": 4,
 "nbformat_minor": 5
}
