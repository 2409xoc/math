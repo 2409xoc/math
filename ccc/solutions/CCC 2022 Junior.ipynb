{
 "cells": [
  {
   "cell_type": "markdown",
   "id": "97749285",
   "metadata": {},
   "source": [
    "### Cupcake Party"
   ]
  },
  {
   "cell_type": "code",
   "execution_count": 1,
   "id": "85cb1798",
   "metadata": {},
   "outputs": [
    {
     "name": "stdout",
     "output_type": "stream",
     "text": [
      "2\n",
      "4\n",
      "0\n"
     ]
    }
   ],
   "source": [
    "print(int(input())*8 + int(input())*3-28)"
   ]
  },
  {
   "cell_type": "markdown",
   "id": "799a6f20",
   "metadata": {},
   "source": [
    "### Fergusonball Ratings"
   ]
  },
  {
   "cell_type": "code",
   "execution_count": 5,
   "id": "6056dfc5",
   "metadata": {
    "scrolled": true
   },
   "outputs": [
    {
     "name": "stdout",
     "output_type": "stream",
     "text": [
      "2\n",
      "8\n",
      "0\n",
      "12\n",
      "1\n",
      "1\n"
     ]
    }
   ],
   "source": [
    "l = []\n",
    "count = 0\n",
    "gold = \"+\"\n",
    "N = int(input())\n",
    "for i in range(N):\n",
    "    score = int(input())*5 + int(input())*-3\n",
    "    if (score <= 40):\n",
    "        gold = \"\"\n",
    "    else:\n",
    "        count += 1\n",
    "print(f\"{count}{gold}\")"
   ]
  },
  {
   "cell_type": "markdown",
   "id": "89f45c19",
   "metadata": {},
   "source": [
    "### Harp Tuning"
   ]
  },
  {
   "cell_type": "code",
   "execution_count": 44,
   "id": "eb164199",
   "metadata": {},
   "outputs": [
    {
     "name": "stdout",
     "output_type": "stream",
     "text": [
      "AFB+8SC-4H-2GDPE+9\n",
      "AFB tighten 8\n",
      "SC loosen 4\n",
      "H loosen 2\n",
      "GDPE tighten 9\n"
     ]
    }
   ],
   "source": [
    "inp = input()\n",
    "l = [[\"+\", \"-\"], [\"tighten\", \"loosen\"]]\n",
    "v = [0]\n",
    "for n in l[0]:\n",
    "    ii = [i for i,ltr in enumerate(inp) if ltr == n]\n",
    "    for j in ii:\n",
    "        v.append(j+2)\n",
    "v.sort()\n",
    "for j in range(len(v)-1):\n",
    "    nn = inp[v[j]:v[j+1]]\n",
    "    for m in l[0]:\n",
    "        if (m in nn):\n",
    "            print(f\"{nn.split(m)[0]} {l[1][l[0].index(m)]} {nn.split(m)[1]}\")"
   ]
  },
  {
   "cell_type": "markdown",
   "id": "65d88ae1",
   "metadata": {},
   "source": [
    "### Good Groups"
   ]
  },
  {
   "cell_type": "code",
   "execution_count": 75,
   "id": "87388fbe",
   "metadata": {
    "scrolled": true
   },
   "outputs": [
    {
     "name": "stdout",
     "output_type": "stream",
     "text": [
      "3 \n",
      "A B \n",
      "G L \n",
      "J K \n",
      "2 \n",
      "D F \n",
      "D G \n",
      "4\n",
      "A C G\n",
      "B D F\n",
      "E H I \n",
      "J K L\n",
      "3\n"
     ]
    }
   ],
   "source": [
    "rules = [[], [], []]\n",
    "bl = [False, True]\n",
    "count = 0\n",
    "l = [2,2,3]\n",
    "for it in range(3):\n",
    "    N = int(input())\n",
    "    ln = l[it]\n",
    "    for i in range(N):\n",
    "        rules[it].append(input().split(\" \")[:ln])\n",
    "        \n",
    "for n in range(len(rules[:2])):\n",
    "    for j in rules[:2][n]:\n",
    "        flag = bl[n]\n",
    "        for nn in rules[2]:\n",
    "            if (j[0] in nn) and (j[1] in nn):\n",
    "                flag = bl[(n+1)%2]\n",
    "        if (flag == False):\n",
    "            count += 1\n",
    "print(count)"
   ]
  },
  {
   "cell_type": "markdown",
   "id": "2a6e593b",
   "metadata": {},
   "source": [
    "### Square Pool"
   ]
  },
  {
   "cell_type": "code",
   "execution_count": 174,
   "id": "a7e66c0b",
   "metadata": {},
   "outputs": [
    {
     "name": "stdout",
     "output_type": "stream",
     "text": [
      "15\n",
      "8\n",
      "4 7\n",
      "4 1\n",
      "14 11\n",
      "10 6\n",
      "13 4\n",
      "4 10\n",
      "10 3\n",
      "9 14\n"
     ]
    }
   ],
   "source": [
    "import numpy as np\n",
    "import matplotlib.pyplot as plt\n",
    "N = int(input())+2\n",
    "pos = [[0,0]]\n",
    "arr = np.zeros(N**2).reshape(N, N)\n",
    "for i in range(int(input())):\n",
    "    n = input().split(\" \")[:2]\n",
    "    arr[int(n[0])][int(n[1])] = 1\n",
    "    for i in range(len(n)):\n",
    "        n[i] = int(n[i])\n",
    "    pos.append(n)"
   ]
  },
  {
   "cell_type": "code",
   "execution_count": 263,
   "id": "d03702bf",
   "metadata": {},
   "outputs": [],
   "source": [
    "for i in range(N):\n",
    "    if (i%(N-1) == 0):\n",
    "        for j in range(N):\n",
    "            if ([i,j] not in pos):\n",
    "                pos.append([i,j])\n",
    "            if ([j,i] not in pos):\n",
    "                pos.append([j,i])\n",
    "pos.sort()"
   ]
  },
  {
   "cell_type": "code",
   "execution_count": 264,
   "id": "d7813fa6",
   "metadata": {
    "scrolled": true
   },
   "outputs": [
    {
     "data": {
      "text/plain": [
       "<matplotlib.image.AxesImage at 0x11ac6cdf0>"
      ]
     },
     "execution_count": 264,
     "metadata": {},
     "output_type": "execute_result"
    },
    {
     "data": {
      "image/png": "[encoded data removed]",
      "text/plain": [
       "<Figure size 432x288 with 1 Axes>"
      ]
     },
     "metadata": {
      "needs_background": "light"
     },
     "output_type": "display_data"
    }
   ],
   "source": [
    "for i in pos:\n",
    "    arr[i[0]][i[1]] = 3\n",
    "plt.imshow(arr)"
   ]
  },
  {
   "cell_type": "code",
   "execution_count": 318,
   "id": "46517d14",
   "metadata": {},
   "outputs": [],
   "source": [
    "def max_length(i, j, pos):\n",
    "    x = (pos[i][1] - pos[j][1])\n",
    "    y = (pos[i][0] - pos[j][0])\n",
    "    return max(x,y)\n",
    "\n",
    "def isNode(i, j, pos):\n",
    "    length = max_length(i,j, pos)\n",
    "    min_x, max_x = min(pos[i][1], pos[j][1]), (min(pos[i][1], pos[j][1]) + length)\n",
    "    min_y, max_y = min(pos[i][0], pos[j][0]), (min(pos[i][1], pos[j][1]) + length)\n",
    "    for i in pos:\n",
    "        if (min_x < i[1] < max_x) and (min_y < i[0] < max_y):\n",
    "            return False\n",
    "    return True"
   ]
  },
  {
   "cell_type": "code",
   "execution_count": 320,
   "id": "d7a4a2cf",
   "metadata": {
    "scrolled": true
   },
   "outputs": [],
   "source": [
    "combos = []\n",
    "m = 0\n",
    "for i in range(len(pos)):\n",
    "    for j in range(len(pos)):\n",
    "        if (pos[i] != pos[j]):\n",
    "            n = [pos[i], pos[j]]\n",
    "            n.sort()\n",
    "            if (n not in combos):\n",
    "                combos.append(n)\n",
    "                if (isNode(i,j, pos) == True):\n",
    "                    if (max_length(i,j,pos) > m):\n",
    "                        m = max_length(i,j,pos)"
   ]
  },
  {
   "cell_type": "code",
   "execution_count": 321,
   "id": "6958e6e5",
   "metadata": {},
   "outputs": [
    {
     "data": {
      "text/plain": [
       "True"
      ]
     },
     "execution_count": 321,
     "metadata": {},
     "output_type": "execute_result"
    }
   ],
   "source": [
    "(isNode(25, 37, pos))"
   ]
  },
  {
   "cell_type": "code",
   "execution_count": 322,
   "id": "7a6625a2",
   "metadata": {},
   "outputs": [
    {
     "data": {
      "text/plain": [
       "16"
      ]
     },
     "execution_count": 322,
     "metadata": {},
     "output_type": "execute_result"
    }
   ],
   "source": [
    "m"
   ]
  },
  {
   "cell_type": "code",
   "execution_count": null,
   "id": "2352df26",
   "metadata": {},
   "outputs": [],
   "source": []
  }
 ],
 "metadata": {
  "kernelspec": {
   "display_name": "Python 3 (ipykernel)",
   "language": "python",
   "name": "python3"
  },
  "language_info": {
   "codemirror_mode": {
    "name": "ipython",
    "version": 3
   },
   "file_extension": ".py",
   "mimetype": "text/x-python",
   "name": "python",
   "nbconvert_exporter": "python",
   "pygments_lexer": "ipython3",
   "version": "3.9.12"
  }
 },
 "nbformat": 4,
 "nbformat_minor": 5
}
