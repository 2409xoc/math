{
 "cells": [
  {
   "cell_type": "code",
   "execution_count": 64,
   "id": "cd66fc9d",
   "metadata": {},
   "outputs": [],
   "source": [
    "count = 2\n",
    "stop = 10001\n",
    "num = 5\n",
    "s = 5\n",
    "m = 2000000"
   ]
  },
  {
   "cell_type": "code",
   "execution_count": 65,
   "id": "ccdf18e2",
   "metadata": {},
   "outputs": [],
   "source": [
    "def prime(n: int):\n",
    "    if (n%2==0) or (n%3 == 0):\n",
    "        return False\n",
    "    i = 5\n",
    "    m = int(n**0.5)\n",
    "    while (i <= m): \n",
    "        if (n%i == 0) or (n%(i+2) == 0):\n",
    "            return False\n",
    "        i += 6\n",
    "    return True"
   ]
  },
  {
   "cell_type": "code",
   "execution_count": 66,
   "id": "1a3de99e",
   "metadata": {},
   "outputs": [
    {
     "data": {
      "text/plain": [
       "False"
      ]
     },
     "execution_count": 66,
     "metadata": {},
     "output_type": "execute_result"
    }
   ],
   "source": [
    "prime(25)"
   ]
  },
  {
   "cell_type": "code",
   "execution_count": 69,
   "id": "3dfbc74a",
   "metadata": {
    "scrolled": false
   },
   "outputs": [
    {
     "name": "stdout",
     "output_type": "stream",
     "text": [
      "2145163\n"
     ]
    }
   ],
   "source": [
    "while (count <= stop):\n",
    "    if (prime(num) == True):\n",
    "        count += 1\n",
    "        if count == stop:\n",
    "            print(num)\n",
    "    num += 1"
   ]
  },
  {
   "cell_type": "code",
   "execution_count": 71,
   "id": "86f86322",
   "metadata": {},
   "outputs": [],
   "source": [
    "while (num < m):\n",
    "    if (prime(num) == True):\n",
    "        s += num\n",
    "    num += 1"
   ]
  },
  {
   "cell_type": "code",
   "execution_count": 72,
   "id": "45cae03a",
   "metadata": {},
   "outputs": [
    {
     "data": {
      "text/plain": [
       "142913828922"
      ]
     },
     "execution_count": 72,
     "metadata": {},
     "output_type": "execute_result"
    }
   ],
   "source": [
    "s"
   ]
  },
  {
   "cell_type": "code",
   "execution_count": null,
   "id": "a67438cf",
   "metadata": {},
   "outputs": [],
   "source": []
  }
 ],
 "metadata": {
  "kernelspec": {
   "display_name": "Python 3 (ipykernel)",
   "language": "python",
   "name": "python3"
  },
  "language_info": {
   "codemirror_mode": {
    "name": "ipython",
    "version": 3
   },
   "file_extension": ".py",
   "mimetype": "text/x-python",
   "name": "python",
   "nbconvert_exporter": "python",
   "pygments_lexer": "ipython3",
   "version": "3.9.12"
  }
 },
 "nbformat": 4,
 "nbformat_minor": 5
}
