{
 "cells": [
  {
   "cell_type": "code",
   "execution_count": 151,
   "id": "4dde2aba",
   "metadata": {},
   "outputs": [],
   "source": [
    "f = open(\"/Users/henry/fun/euler/sources/adjacent2.txt\").read().replace(\"\\n\", \" \").split(\" \")"
   ]
  },
  {
   "cell_type": "code",
   "execution_count": 152,
   "id": "4cb0a11e",
   "metadata": {
    "scrolled": false
   },
   "outputs": [],
   "source": [
    "# left & right\n",
    "m = 0\n",
    "for i in range(len(f)-4):\n",
    "    pv = 1\n",
    "    for j in range(i, i+4):\n",
    "        pv *= int(f[j])\n",
    "        if (pv > m):\n",
    "            m = pv"
   ]
  },
  {
   "cell_type": "code",
   "execution_count": 153,
   "id": "047f1f73",
   "metadata": {},
   "outputs": [],
   "source": [
    "# up & down\n",
    "m2 = 0\n",
    "for i in range(len(f)-61):\n",
    "    pv = 1\n",
    "    for j in range(i, i+4):\n",
    "        pv *= int(f[j+(19*(j-i))])\n",
    "        if (pv > m2):\n",
    "            m2 = pv"
   ]
  },
  {
   "cell_type": "code",
   "execution_count": 154,
   "id": "4a5bc40a",
   "metadata": {},
   "outputs": [],
   "source": [
    "# diagonal\n",
    "m3 = 0\n",
    "for i in range(17):\n",
    "    for j in range(17):\n",
    "        pv = 1\n",
    "        # starting nodes: f[20*i + j]\n",
    "        for n in range(4):\n",
    "            sn = int(f[20*i + j + 21*n])\n",
    "            pv *= sn\n",
    "            if (pv > m3):\n",
    "                m3 = pv"
   ]
  },
  {
   "cell_type": "code",
   "execution_count": 155,
   "id": "c9830e56",
   "metadata": {},
   "outputs": [],
   "source": [
    "# diagonal [inverted]\n",
    "m4 = 0\n",
    "for i in range(3,20):\n",
    "    for j in range(17):\n",
    "        pv = 1\n",
    "        for n in range(4):\n",
    "            sn = int(f[20*i + j - 19*n])\n",
    "            pv *= sn\n",
    "            if (pv > m4):\n",
    "                m4 = pv"
   ]
  },
  {
   "cell_type": "code",
   "execution_count": 156,
   "id": "5adb9259",
   "metadata": {},
   "outputs": [
    {
     "data": {
      "text/plain": [
       "70600674"
      ]
     },
     "execution_count": 156,
     "metadata": {},
     "output_type": "execute_result"
    }
   ],
   "source": [
    "max(m3, m2, m, m4)"
   ]
  },
  {
   "cell_type": "code",
   "execution_count": null,
   "id": "de19ef8f",
   "metadata": {},
   "outputs": [],
   "source": []
  }
 ],
 "metadata": {
  "kernelspec": {
   "display_name": "Python 3 (ipykernel)",
   "language": "python",
   "name": "python3"
  },
  "language_info": {
   "codemirror_mode": {
    "name": "ipython",
    "version": 3
   },
   "file_extension": ".py",
   "mimetype": "text/x-python",
   "name": "python",
   "nbconvert_exporter": "python",
   "pygments_lexer": "ipython3",
   "version": "3.9.12"
  }
 },
 "nbformat": 4,
 "nbformat_minor": 5
}
