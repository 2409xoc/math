{
 "cells": [
  {
   "cell_type": "code",
   "execution_count": null,
   "id": "47d028c1",
   "metadata": {},
   "outputs": [],
   "source": [
    "i = 2\n",
    "while True:\n",
    "    count = 2\n",
    "    s = sum(range(i))\n",
    "    for j in range(2, int(s/2)+1):\n",
    "        if (s%j == 0):\n",
    "            count += 1\n",
    "    print(s, count)\n",
    "    if (count < 50):\n",
    "        break\n",
    "    i += 1\n",
    "print(s)"
   ]
  },
  {
   "cell_type": "code",
   "execution_count": 4,
   "id": "00fd0eaa",
   "metadata": {},
   "outputs": [
    {
     "data": {
      "text/plain": [
       "21"
      ]
     },
     "execution_count": 4,
     "metadata": {},
     "output_type": "execute_result"
    }
   ],
   "source": [
    "z"
   ]
  },
  {
   "cell_type": "code",
   "execution_count": null,
   "id": "9b8dddc2",
   "metadata": {},
   "outputs": [],
   "source": []
  }
 ],
 "metadata": {
  "kernelspec": {
   "display_name": "Python 3 (ipykernel)",
   "language": "python",
   "name": "python3"
  },
  "language_info": {
   "codemirror_mode": {
    "name": "ipython",
    "version": 3
   },
   "file_extension": ".py",
   "mimetype": "text/x-python",
   "name": "python",
   "nbconvert_exporter": "python",
   "pygments_lexer": "ipython3",
   "version": "3.9.12"
  }
 },
 "nbformat": 4,
 "nbformat_minor": 5
}
